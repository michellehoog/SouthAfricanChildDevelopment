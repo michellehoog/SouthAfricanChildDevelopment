{
 "cells": [
  {
   "cell_type": "code",
   "execution_count": 1,
   "metadata": {},
   "outputs": [],
   "source": [
    "import os\n",
    "import pandas as pd\n",
    "import numpy as np\n",
    "import seaborn as sns\n",
    "import matplotlib.pyplot as plt\n",
    "import statsmodels as sm\n",
    "import geopandas as gpd\n"
   ]
  },
  {
   "cell_type": "code",
   "execution_count": 2,
   "metadata": {},
   "outputs": [
    {
     "name": "stdout",
     "output_type": "stream",
     "text": [
      "Index(['Unnamed: 0', 'w5_c_outcome', 'w5_hhid', 'pid', 'w5_c_intrv_c',\n",
      "       'w5_c_intrv_d', 'w5_c_intrv_m', 'w5_c_intrv_y', 'w5_c_refexpl',\n",
      "       'w5_c_refexpl_o',\n",
      "       ...\n",
      "       'w5_c_intlng9', 'w5_c_intlng10', 'w5_c_intlng11', 'w5_c_intresp',\n",
      "       'w5_c_intrespact', 'w5_c_intresphear', 'w5_c_intrespque',\n",
      "       'w5_c_intresppid1', 'w5_c_intresppid2', 'w5_c_intresppid3'],\n",
      "      dtype='object', length=323)\n"
     ]
    },
    {
     "data": {
      "text/plain": [
       "(14993, 323)"
      ]
     },
     "execution_count": 2,
     "metadata": {},
     "output_type": "execute_result"
    }
   ],
   "source": [
    "#load data\n",
    "child_data_raw = pd.read_csv(\"../data/raw/child_w5_anon_v1.0.0-stata11.csv\", low_memory=False)\n",
    "column_names = child_data_raw.columns\n",
    "print(column_names)\n",
    "\n",
    "child_data_raw.shape #should be 14994 households?"
   ]
  },
  {
   "cell_type": "code",
   "execution_count": 34,
   "metadata": {},
   "outputs": [],
   "source": [
    "#variables of interest\n",
    "\n",
    "#w5_hhid\tHousehold identifier\n",
    "#pid = personal identifier\n",
    "#w5_c_gen\tb1 - Gender\t\n",
    "#w5_c_popgrp\tb2 - Population group\n",
    "#w5_c_lng\tb3 - Home language\n",
    "\n",
    "# w5_c_lvevoth\tb6 - Child ever lived in another suburb/town/village\t\n",
    "# w5_c_brnprov\tb7_3 - Province respondent born in\t\n",
    "# w5_c_brndc_2001\tb7_5 - District Council of Birth (Coded using census 2001)\t\n",
    "# w5_c_brndc_2011\tb7_7 - District Council of Birth (Coded using census 2011)\t\n",
    "\n",
    "# w5_c_hlser\td9 - The child has/had any illnesses or disabilities?\t\n",
    "# w5_c_hl1\td10_1 - What is the main serious illness or disability? 1st answer\t\n",
    "# w5_c_hl2\td10_2 - What is the main serious illness or disability? 2nd answer\t\n",
    "# w5_c_hl3\td10_3 - What is the main serious illness or disability? 3rd answer\t\n",
    "# w5_c_hl4\td10_4 - What is the main serious illness or disability? 4th answer\t\n",
    "# w5_c_hl_o\td10_11_o - Other: What is main illness or disability?\n",
    "#w5_c_hlchckup\td11 - Number of times health professional was consulted in last 12 months\n",
    "\n",
    "# w5_c_edatt\tc3 - Has the child ever attended school?\t\n",
    "# w5_c_ednoenrolexp\tc4 - What is the main reason that this child has never been enrolled in school?\t\n",
    "# w5_c_ednoenrolexp_o\tc4_o - Other: Reason child never enrolled in school\t\n"
   ]
  },
  {
   "cell_type": "code",
   "execution_count": 3,
   "metadata": {},
   "outputs": [],
   "source": [
    "#create smaller dataset of relevant data and write to file\n",
    "dev_data = child_data_raw[['w5_hhid', 'pid', 'w5_c_gen', 'w5_c_popgrp', 'w5_c_lng', 'w5_c_lvevoth', 'w5_c_brnprov', \n",
    "                              'w5_c_brndc_2001', 'w5_c_brndc_2011', 'w5_c_hlser', 'w5_c_hl1', 'w5_c_hl2', 'w5_c_hl3', \n",
    "                             'w5_c_hl4', 'w5_c_hl_o', 'w5_c_hlchckup','w5_c_edatt', 'w5_c_ednoenrolexp', 'w5_c_ednoenrolexp_o']]\n",
    "\n",
    "assert dev_data.shape==(14993, 19)\n",
    "\n",
    "dev_data = dev_data.rename(columns={'w5_c_gen': 'gender', \n",
    "                         'w5_c_popgrp': 'population_grp', \n",
    "                         'w5_c_lng': 'home_language', \n",
    "                         'w5_c_lvevoth': 'child_lived_elsewhere', \n",
    "                         'w5_c_brnprov': 'province_birth',\n",
    "                         'w5_c_brndc_2001': 'district_birth_2001', \n",
    "                         'w5_c_brndc_2011': 'district_birth_2011', \n",
    "                         'w5_c_hlser': 'illness_disability', \n",
    "                         'w5_c_hl1': 'main_illness_1', \n",
    "                         'w5_c_hl2': 'main_illness_2', \n",
    "                         'w5_c_hl3': 'main_illness_3', \n",
    "                         'w5_c_hl4': 'main_illness_4', \n",
    "                         'w5_c_hl_o': 'main_illness_other', \n",
    "                         'w5_c_hlchckup': 'number_health_checkups_last_year',\n",
    "                         'w5_c_edatt': 'ever_attended_school', \n",
    "                         'w5_c_ednoenrolexp': 'reason_nonenrollment_school', \n",
    "                         'w5_c_ednoenrolexp_o': 'reason_nonenrollment_school_other'})\n",
    "\n",
    "path = \"../data/processed\"\n",
    "\n",
    "if not os.path.exists(path):\n",
    "    try:\n",
    "        os.makedirs(path)\n",
    "    except OSError:\n",
    "        print (f\"Creation of the directory {path} failed\")\n",
    "\n",
    "dev_data.to_csv(\"%s/w5_child_devdata.csv\" % path, index=False)"
   ]
  },
  {
   "cell_type": "code",
   "execution_count": 4,
   "metadata": {},
   "outputs": [
    {
     "data": {
      "text/html": [
       "<div>\n",
       "<style scoped>\n",
       "    .dataframe tbody tr th:only-of-type {\n",
       "        vertical-align: middle;\n",
       "    }\n",
       "\n",
       "    .dataframe tbody tr th {\n",
       "        vertical-align: top;\n",
       "    }\n",
       "\n",
       "    .dataframe thead th {\n",
       "        text-align: right;\n",
       "    }\n",
       "</style>\n",
       "<table border=\"1\" class=\"dataframe\">\n",
       "  <thead>\n",
       "    <tr style=\"text-align: right;\">\n",
       "      <th></th>\n",
       "      <th>w5_hhid</th>\n",
       "      <th>pid</th>\n",
       "      <th>gender</th>\n",
       "      <th>population_grp</th>\n",
       "      <th>home_language</th>\n",
       "      <th>child_lived_elsewhere</th>\n",
       "      <th>province_birth</th>\n",
       "      <th>district_birth_2001</th>\n",
       "      <th>district_birth_2011</th>\n",
       "      <th>illness_disability</th>\n",
       "      <th>main_illness_1</th>\n",
       "      <th>main_illness_2</th>\n",
       "      <th>main_illness_3</th>\n",
       "      <th>main_illness_4</th>\n",
       "      <th>main_illness_other</th>\n",
       "      <th>number_health_checkups_last_year</th>\n",
       "      <th>ever_attended_school</th>\n",
       "      <th>reason_nonenrollment_school</th>\n",
       "      <th>reason_nonenrollment_school_other</th>\n",
       "    </tr>\n",
       "  </thead>\n",
       "  <tbody>\n",
       "    <tr>\n",
       "      <th>0</th>\n",
       "      <td>500002</td>\n",
       "      <td>401746</td>\n",
       "      <td>Male</td>\n",
       "      <td>African</td>\n",
       "      <td>Sepedi</td>\n",
       "      <td>No</td>\n",
       "      <td>NaN</td>\n",
       "      <td>NaN</td>\n",
       "      <td>NaN</td>\n",
       "      <td>No</td>\n",
       "      <td>NaN</td>\n",
       "      <td>NaN</td>\n",
       "      <td>NaN</td>\n",
       "      <td>NaN</td>\n",
       "      <td>NaN</td>\n",
       "      <td>More than once</td>\n",
       "      <td>NaN</td>\n",
       "      <td>NaN</td>\n",
       "      <td>NaN</td>\n",
       "    </tr>\n",
       "    <tr>\n",
       "      <th>1</th>\n",
       "      <td>500002</td>\n",
       "      <td>630858</td>\n",
       "      <td>Female</td>\n",
       "      <td>African</td>\n",
       "      <td>Sepedi</td>\n",
       "      <td>No</td>\n",
       "      <td>NaN</td>\n",
       "      <td>NaN</td>\n",
       "      <td>NaN</td>\n",
       "      <td>No</td>\n",
       "      <td>NaN</td>\n",
       "      <td>NaN</td>\n",
       "      <td>NaN</td>\n",
       "      <td>NaN</td>\n",
       "      <td>NaN</td>\n",
       "      <td>More than once</td>\n",
       "      <td>NaN</td>\n",
       "      <td>NaN</td>\n",
       "      <td>NaN</td>\n",
       "    </tr>\n",
       "    <tr>\n",
       "      <th>2</th>\n",
       "      <td>500003</td>\n",
       "      <td>763879</td>\n",
       "      <td>Female</td>\n",
       "      <td>African</td>\n",
       "      <td>Setswana</td>\n",
       "      <td>No</td>\n",
       "      <td>NaN</td>\n",
       "      <td>NaN</td>\n",
       "      <td>NaN</td>\n",
       "      <td>No</td>\n",
       "      <td>NaN</td>\n",
       "      <td>NaN</td>\n",
       "      <td>NaN</td>\n",
       "      <td>NaN</td>\n",
       "      <td>NaN</td>\n",
       "      <td>Once</td>\n",
       "      <td>NaN</td>\n",
       "      <td>NaN</td>\n",
       "      <td>NaN</td>\n",
       "    </tr>\n",
       "    <tr>\n",
       "      <th>3</th>\n",
       "      <td>500003</td>\n",
       "      <td>782520</td>\n",
       "      <td>Male</td>\n",
       "      <td>African</td>\n",
       "      <td>Setswana</td>\n",
       "      <td>No</td>\n",
       "      <td>NaN</td>\n",
       "      <td>NaN</td>\n",
       "      <td>NaN</td>\n",
       "      <td>No</td>\n",
       "      <td>NaN</td>\n",
       "      <td>NaN</td>\n",
       "      <td>NaN</td>\n",
       "      <td>NaN</td>\n",
       "      <td>NaN</td>\n",
       "      <td>More than once</td>\n",
       "      <td>NaN</td>\n",
       "      <td>NaN</td>\n",
       "      <td>NaN</td>\n",
       "    </tr>\n",
       "    <tr>\n",
       "      <th>4</th>\n",
       "      <td>500006</td>\n",
       "      <td>624989</td>\n",
       "      <td>Male</td>\n",
       "      <td>African</td>\n",
       "      <td>IsiTsonga</td>\n",
       "      <td>No</td>\n",
       "      <td>NaN</td>\n",
       "      <td>NaN</td>\n",
       "      <td>NaN</td>\n",
       "      <td>No</td>\n",
       "      <td>NaN</td>\n",
       "      <td>NaN</td>\n",
       "      <td>NaN</td>\n",
       "      <td>NaN</td>\n",
       "      <td>NaN</td>\n",
       "      <td>More than once</td>\n",
       "      <td>NaN</td>\n",
       "      <td>NaN</td>\n",
       "      <td>NaN</td>\n",
       "    </tr>\n",
       "  </tbody>\n",
       "</table>\n",
       "</div>"
      ],
      "text/plain": [
       "   w5_hhid     pid  gender population_grp home_language child_lived_elsewhere  \\\n",
       "0   500002  401746    Male        African        Sepedi                    No   \n",
       "1   500002  630858  Female        African        Sepedi                    No   \n",
       "2   500003  763879  Female        African      Setswana                    No   \n",
       "3   500003  782520    Male        African      Setswana                    No   \n",
       "4   500006  624989    Male        African     IsiTsonga                    No   \n",
       "\n",
       "  province_birth district_birth_2001 district_birth_2011 illness_disability  \\\n",
       "0            NaN                 NaN                 NaN                 No   \n",
       "1            NaN                 NaN                 NaN                 No   \n",
       "2            NaN                 NaN                 NaN                 No   \n",
       "3            NaN                 NaN                 NaN                 No   \n",
       "4            NaN                 NaN                 NaN                 No   \n",
       "\n",
       "  main_illness_1 main_illness_2 main_illness_3 main_illness_4  \\\n",
       "0            NaN            NaN            NaN            NaN   \n",
       "1            NaN            NaN            NaN            NaN   \n",
       "2            NaN            NaN            NaN            NaN   \n",
       "3            NaN            NaN            NaN            NaN   \n",
       "4            NaN            NaN            NaN            NaN   \n",
       "\n",
       "  main_illness_other number_health_checkups_last_year ever_attended_school  \\\n",
       "0                NaN                   More than once                  NaN   \n",
       "1                NaN                   More than once                  NaN   \n",
       "2                NaN                             Once                  NaN   \n",
       "3                NaN                   More than once                  NaN   \n",
       "4                NaN                   More than once                  NaN   \n",
       "\n",
       "  reason_nonenrollment_school reason_nonenrollment_school_other  \n",
       "0                         NaN                               NaN  \n",
       "1                         NaN                               NaN  \n",
       "2                         NaN                               NaN  \n",
       "3                         NaN                               NaN  \n",
       "4                         NaN                               NaN  "
      ]
     },
     "execution_count": 4,
     "metadata": {},
     "output_type": "execute_result"
    }
   ],
   "source": [
    "dev_data.head()"
   ]
  },
  {
   "cell_type": "markdown",
   "metadata": {},
   "source": [
    "## Breakdown of children with disabilities/illnesses"
   ]
  },
  {
   "cell_type": "code",
   "execution_count": 97,
   "metadata": {},
   "outputs": [
    {
     "name": "stdout",
     "output_type": "stream",
     "text": [
      "No            13059\n",
      "Yes             492\n",
      "Refused          37\n",
      "Don't know       24\n",
      "Missing           7\n",
      "Name: illness_disability, dtype: int64\n",
      "\n",
      " children with any known disability/illness: 0.03 %\n"
     ]
    }
   ],
   "source": [
    "print(dev_data.illness_disability.value_counts())\n",
    "\n",
    "percent_disability = round(sum(dev_data['illness_disability']=='Yes')/len(dev_data),2)\n",
    "print(f\"\\n children with any known disability/illness: {percent_disability} %\")"
   ]
  },
  {
   "cell_type": "markdown",
   "metadata": {},
   "source": [
    "### Number of children with mental problems and/or epilepsy"
   ]
  },
  {
   "cell_type": "code",
   "execution_count": 123,
   "metadata": {},
   "outputs": [
    {
     "name": "stdout",
     "output_type": "stream",
     "text": [
      "children with known mental problems:\n",
      "  main_illness_1        33\n",
      "main_illness_2        20\n",
      "main_illness_3         8\n",
      "main_illness_4         0\n",
      "main_illness_other     4\n",
      "dtype: int64\n",
      "\n",
      "children with epilepsy:\n",
      " main_illness_1        22\n",
      "main_illness_2        11\n",
      "main_illness_3         2\n",
      "main_illness_4         3\n",
      "main_illness_other     0\n",
      "dtype: int64\n",
      "\n",
      "how many have primary mental problem and secondary epilepsy?: 5\n",
      "how many have primary epilepsy and secondary mental problem?: 0\n"
     ]
    }
   ],
   "source": [
    "disability_cols = [col for col in dev_data.columns if 'main_illness' in col] \n",
    "disabilities_data = dev_data[disability_cols]\n",
    "\n",
    "# for col in disability_cols:\n",
    "#     print(f\"{col}:\\n {disabilities_data[col].value_counts()}\\n\")\n",
    "\n",
    "#get list of mental and developmental problems\n",
    "#assume 'palse' could be a number of different things, so not included in dev disorder list  \n",
    "dev_disorder_list = [\"Pdd Nos\", \n",
    "                     \"Down-Syndrome\", \n",
    "                     \"He Was Born With A Down-Syndrome And He Has Heart Problems As Well.\", \n",
    "                     \"Cerebral Palsy, Adhd, Autism.\"]    \n",
    "dev_disorder_list.append('Mental problem')\n",
    "\n",
    "#how many people report mental illneses?\n",
    "mental_ilness_sum = disabilities_data.isin(dev_disorder_list).sum()\n",
    "print(f\"children with known mental problems:\\n  {mental_ilness_sum}\\n\")\n",
    "\n",
    "#how many children have epilepsy?\n",
    "epilepsy_sum = disabilities_data.isin(['Epilepsy/fits']).sum()\n",
    "print(f\"children with epilepsy:\\n {epilepsy_sum}\\n\")\n",
    "\n",
    "\n",
    "#how many have primary mental problem and secondary epilepsy?\n",
    "mental_problem_main = disabilities_data[\n",
    "    disabilities_data.main_illness_1.isin(dev_disorder_list) & \n",
    "    disabilities_data.main_illness_2.isin(['Epilepsy/fits'])\n",
    "]\n",
    "\n",
    "print(f\"how many have primary mental problem and secondary epilepsy?: {len(mental_problem_main)}\")\n",
    "\n",
    "#how many have primary epilepsy with secondary mental health problem?\n",
    "mental_problem_main = disabilities_data[\n",
    "    disabilities_data.main_illness_2.isin(dev_disorder_list) & \n",
    "    disabilities_data.main_illness_1.isin(['Epilepsy/fits'])\n",
    "]\n",
    "\n",
    "print(f\"how many have primary epilepsy and secondary mental problem?: {len(mental_problem_main)}\")"
   ]
  },
  {
   "cell_type": "code",
   "execution_count": 173,
   "metadata": {},
   "outputs": [
    {
     "data": {
      "text/plain": [
       "0    14960\n",
       "1       33\n",
       "Name: mental_problem, dtype: int64"
      ]
     },
     "execution_count": 173,
     "metadata": {},
     "output_type": "execute_result"
    }
   ],
   "source": [
    "# TODO: get subset with only children with mental health problems (incl epilepsy) in any category"
   ]
  },
  {
   "cell_type": "markdown",
   "metadata": {},
   "source": [
    "## What is the breakdown by province?"
   ]
  },
  {
   "cell_type": "code",
   "execution_count": 20,
   "metadata": {},
   "outputs": [
    {
     "name": "stdout",
     "output_type": "stream",
     "text": [
      "missing by province: 85.69 %\n",
      "missing by district: 85.82 %\n"
     ]
    }
   ],
   "source": [
    "def percent_missing(column):\n",
    "    return round(dev_data[column].isna().sum()/len(dev_data)*100, 2)\n",
    "    \n",
    "print(f\"missing by province: {percent_missing('province_birth')} %\")\n",
    "print(f\"missing by district: {percent_missing('district_birth_2011')} %\")\n"
   ]
  },
  {
   "cell_type": "markdown",
   "metadata": {},
   "source": [
    "Most data for province and district are missing - will have to get secure data"
   ]
  },
  {
   "cell_type": "markdown",
   "metadata": {},
   "source": [
    "## What is school access like for children with mental health problems?"
   ]
  },
  {
   "cell_type": "code",
   "execution_count": null,
   "metadata": {},
   "outputs": [],
   "source": [
    "# TODO: tabulate number of children who have never attended school for children with mental health problems and those without mental health problems (exclude children who are too young to go to school)\n",
    "# Will eventually tabulate this by province and district too"
   ]
  },
  {
   "cell_type": "markdown",
   "metadata": {},
   "source": [
    "## Is there a difference between population groups?\n"
   ]
  },
  {
   "cell_type": "code",
   "execution_count": 4,
   "metadata": {},
   "outputs": [],
   "source": [
    "#TODO: what is the breakdown of children with mental disabilites by population group and home language? \n",
    "#TODO: are these numbers representative of size of population? to do this, find size of population groups and language groups in SA on statssa.gov.za\n",
    "\n",
    "#TODO: compare count of children with and without mental disabilities by gender "
   ]
  },
  {
   "cell_type": "markdown",
   "metadata": {},
   "source": [
    "## How do families with mental disabilities access the healthcare system?\n"
   ]
  },
  {
   "cell_type": "code",
   "execution_count": 3,
   "metadata": {},
   "outputs": [],
   "source": [
    "#TODO: compare number_health_checkups_last_year between children with and without mental disabilities\n",
    "#should eventually split this by province    "
   ]
  }
 ],
 "metadata": {
  "kernelspec": {
   "display_name": "Python 3",
   "language": "python",
   "name": "python3"
  },
  "language_info": {
   "codemirror_mode": {
    "name": "ipython",
    "version": 3
   },
   "file_extension": ".py",
   "mimetype": "text/x-python",
   "name": "python",
   "nbconvert_exporter": "python",
   "pygments_lexer": "ipython3",
   "version": "3.6.8"
  }
 },
 "nbformat": 4,
 "nbformat_minor": 2
}
